{
 "cells": [
  {
   "cell_type": "markdown",
   "metadata": {},
   "source": [
    "## Background \n",
    "\n",
    "In this analysis, we attempt to answer the question of how many individuals are potentially eligible or impacted by Massachusetts expungement eligibility. "
   ]
  },
  {
   "cell_type": "code",
   "execution_count": 81,
   "metadata": {},
   "outputs": [],
   "source": [
    "import numpy as np\n",
    "import pandas as pd\n",
    "import math"
   ]
  },
  {
   "cell_type": "markdown",
   "metadata": {},
   "source": [
    "## Data Source\n",
    "\n",
    "The data source for this comes from the Massachusetts State Police CrimeSOLV that contains 'crime data from police agencies in Massachusetts which report data to the Crime Reporting Unit in the format of the \"National Incident Based Reporting System.\" The majority of police agencies now use this way of reporting their crime data.'\n",
    "\n",
    "Unfortunately, there is no API for retrieving the data, but a report can be configureed and downloaded as a CSV at https://masscrime.chs.state.ma.us. Using the reporting system, \n",
    "\n",
    "<img src=\"../img/report_selection.png\" width=\"400\">\n",
    "\n",
    "Columns are selected and arranged in the following manner:\n",
    "\n",
    "<img src=\"../img/report_columns.png\" width=\"800\">\n",
    "\n",
    "With the following filters:\n",
    "\n",
    "<table>\n",
    "  <tr>\n",
    "      <td><img src=\"../img/select_age.png\" width=\"400\"></td>\n",
    "      <td><img src=\"../img/select_offense.png\" width=\"400\"></td>\n",
    "      <td><img src=\"../img/select_unarmed.png\" width=\"400\"></td>\n",
    "    </tr>\n",
    "</table>    \n",
    "\n",
    "This report can then be downloaded in CSV list format for further analysis."
   ]
  },
  {
   "cell_type": "code",
   "execution_count": 84,
   "metadata": {},
   "outputs": [
    {
     "data": {
      "text/html": [
       "<div>\n",
       "<style scoped>\n",
       "    .dataframe tbody tr th:only-of-type {\n",
       "        vertical-align: middle;\n",
       "    }\n",
       "\n",
       "    .dataframe tbody tr th {\n",
       "        vertical-align: top;\n",
       "    }\n",
       "\n",
       "    .dataframe thead th {\n",
       "        text-align: right;\n",
       "    }\n",
       "</style>\n",
       "<table border=\"1\" class=\"dataframe\">\n",
       "  <thead>\n",
       "    <tr style=\"text-align: right;\">\n",
       "      <th></th>\n",
       "      <th>Date</th>\n",
       "      <th>Offense</th>\n",
       "      <th>Age</th>\n",
       "      <th>Count</th>\n",
       "    </tr>\n",
       "  </thead>\n",
       "  <tbody>\n",
       "    <tr>\n",
       "      <th>0</th>\n",
       "      <td>1991</td>\n",
       "      <td>Aggravated Assault</td>\n",
       "      <td>15</td>\n",
       "      <td>1.0</td>\n",
       "    </tr>\n",
       "    <tr>\n",
       "      <th>1</th>\n",
       "      <td>1991</td>\n",
       "      <td>All Other Larceny</td>\n",
       "      <td>14</td>\n",
       "      <td>1.0</td>\n",
       "    </tr>\n",
       "    <tr>\n",
       "      <th>2</th>\n",
       "      <td>1991</td>\n",
       "      <td>All Other Offenses</td>\n",
       "      <td>13</td>\n",
       "      <td>1.0</td>\n",
       "    </tr>\n",
       "    <tr>\n",
       "      <th>3</th>\n",
       "      <td>1991</td>\n",
       "      <td>Burglary/Breaking &amp; Entering</td>\n",
       "      <td>10</td>\n",
       "      <td>1.0</td>\n",
       "    </tr>\n",
       "    <tr>\n",
       "      <th>4</th>\n",
       "      <td>1991</td>\n",
       "      <td>Burglary/Breaking &amp; Entering</td>\n",
       "      <td>14</td>\n",
       "      <td>1.0</td>\n",
       "    </tr>\n",
       "  </tbody>\n",
       "</table>\n",
       "</div>"
      ],
      "text/plain": [
       "   Date                       Offense  Age  Count\n",
       "0  1991            Aggravated Assault   15    1.0\n",
       "1  1991             All Other Larceny   14    1.0\n",
       "2  1991            All Other Offenses   13    1.0\n",
       "3  1991  Burglary/Breaking & Entering   10    1.0\n",
       "4  1991  Burglary/Breaking & Entering   14    1.0"
      ]
     },
     "execution_count": 84,
     "metadata": {},
     "output_type": "execute_result"
    }
   ],
   "source": [
    "# Load data from downloaded CSV\n",
    "arrests = pd.read_csv(\n",
    "    \"../data/arrests_by_age.csv\", skiprows=5, \n",
    "    names=list([\"Date\",\"Offense\",\"Armed\",\"Age\",\"Count\",\"dummy\"]), \n",
    "    index_col=False)\n",
    "\n",
    "# Remove empty entries and drop dummy cols\n",
    "arrests = arrests[arrests[\"Count\"].notnull()] \\\n",
    "    .drop([\"Armed\",\"dummy\"], axis=1) \\\n",
    "    .groupby([\"Date\", \"Offense\", \"Age\"]) \\\n",
    "    .agg(\"sum\").reset_index()\n",
    "\n",
    "arrests.Count = pd.to_numeric(arrests['Count'], errors='coerce')\n",
    "arrests.head()"
   ]
  },
  {
   "cell_type": "code",
   "execution_count": 86,
   "metadata": {},
   "outputs": [
    {
     "data": {
      "text/plain": [
       "array(['All Other Larceny', 'All Other Offenses',\n",
       "       'Burglary/Breaking & Entering',\n",
       "       'Destruction/Damage/Vandalism of Property', 'Disorderly Conduct',\n",
       "       'Driving Under the Influence', 'Drug/Narcotic Violations',\n",
       "       'Liquor Law Violations', 'Motor Vehicle Theft', 'Simple Assault',\n",
       "       'Theft From Building', 'Theft From Motor Vehicle',\n",
       "       'Trespass of Real Property', 'Arson', 'Counterfeiting/Forgery',\n",
       "       'Drunkenness', 'False Pretenses/Swindle/Confidence Game',\n",
       "       'Family Offenses (Nonviolent)', 'Intimidation', 'Robbery',\n",
       "       'Runaway', 'Shoplifting', 'Stolen Property Offenses',\n",
       "       'Theft of Motor Vehicle Parts/Accessories',\n",
       "       'Weapon Law Violations', 'Credit Card/Automatic Teller Fraud',\n",
       "       'Drug Equipment Violations', 'Fondling', 'Kidnapping/Abduction',\n",
       "       'Prostitution', 'Purse-snatching', 'Bad Checks',\n",
       "       'Curfew/Loitering/Vagrancy Violations', 'Embezzlement',\n",
       "       'Impersonation', 'Statutory Rape',\n",
       "       'Theft From Coin Operated Machine or Device',\n",
       "       'Assisting or Promoting Prostitution', 'Betting/Wagering',\n",
       "       'Pocket-picking', 'Extortion/Blackmail', 'Incest',\n",
       "       'Operating/Promoting/Assisting Gambling',\n",
       "       'Pornography/Obscene Material', 'Wire Fraud', 'Peeping Tom',\n",
       "       'Welfare Fraud', 'Gambling Equipment Violations', 'Bribery',\n",
       "       'Human Trafficking, Commercial Sex Acts',\n",
       "       'Purchasing Prostitution'], dtype=object)"
      ]
     },
     "execution_count": 86,
     "metadata": {},
     "output_type": "execute_result"
    }
   ],
   "source": [
    "# Certain offenses are never eligible\n",
    "disqualifying_offenses = list([\n",
    "    # Result / intent in Death or serious bodily injury\n",
    "    'Murder and Nonnegligent Manslaughter',\n",
    "    'Aggravated Assault',\n",
    "    'Negligent Manslaughter',\n",
    "    'Rape',\n",
    "    'Sodomy',\n",
    "    'Sexual Assault With An Object'\n",
    "])\n",
    "clean_arrests = arrests[np.logical_not(arrests['Offense'].isin(disqualifying_offenses))].copy()\n",
    "clean_arrests[\"Offense\"].unique()"
   ]
  },
  {
   "cell_type": "code",
   "execution_count": 102,
   "metadata": {},
   "outputs": [
    {
     "data": {
      "text/plain": [
       "'misdemeanor'"
      ]
     },
     "execution_count": 102,
     "metadata": {},
     "output_type": "execute_result"
    }
   ],
   "source": [
    "# Assign crime type - this is incorrect since all are assigned misdemeanor\n",
    "crime_type = {offense: \"misdemeanor\" for offense in clean_arrests[\"Offense\"].unique()}\n",
    "crime_type.get('Welfare Fraud')"
   ]
  },
  {
   "cell_type": "code",
   "execution_count": 88,
   "metadata": {},
   "outputs": [],
   "source": [
    "from datetime import date\n",
    "def eligible(offense_year, offense, age):\n",
    "    if age >= 21:\n",
    "        return False\n",
    "    offense_class = crime_type.get(offense)\n",
    "    cutoff = 7 if offense_class == 'felony' else 3\n",
    "    current_year = date.today().year\n",
    "    years_since = current_year - offense_year\n",
    "    \n",
    "    return years_since >= cutoff"
   ]
  },
  {
   "cell_type": "code",
   "execution_count": 89,
   "metadata": {},
   "outputs": [],
   "source": [
    "clean_arrests[\"Eligible\"] = clean_arrests.apply(\n",
    "    lambda row: eligible(row[\"Date\"], row[\"Class\"], row[\"Age\"]), axis=1)"
   ]
  },
  {
   "cell_type": "code",
   "execution_count": 94,
   "metadata": {},
   "outputs": [
    {
     "data": {
      "text/plain": [
       "461879.0"
      ]
     },
     "execution_count": 94,
     "metadata": {},
     "output_type": "execute_result"
    }
   ],
   "source": [
    "clean_arrests[clean_arrests[\"Eligible\"]][\"Count\"].sum()"
   ]
  },
  {
   "cell_type": "code",
   "execution_count": null,
   "metadata": {},
   "outputs": [],
   "source": []
  }
 ],
 "metadata": {
  "kernelspec": {
   "display_name": "Python 3",
   "language": "python",
   "name": "python3"
  },
  "language_info": {
   "codemirror_mode": {
    "name": "ipython",
    "version": 3
   },
   "file_extension": ".py",
   "mimetype": "text/x-python",
   "name": "python",
   "nbconvert_exporter": "python",
   "pygments_lexer": "ipython3",
   "version": "3.6.8"
  }
 },
 "nbformat": 4,
 "nbformat_minor": 2
}
